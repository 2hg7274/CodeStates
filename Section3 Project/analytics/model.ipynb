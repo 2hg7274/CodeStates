{
 "cells": [
  {
   "cell_type": "code",
   "execution_count": 1,
   "metadata": {},
   "outputs": [],
   "source": [
    "import pandas as pd\n",
    "from  category_encoders import OrdinalEncoder\n",
    "from sklearn.ensemble import RandomForestRegressor\n",
    "from sklearn.pipeline import Pipeline\n",
    "from sklearn.model_selection import train_test_split\n",
    "from sklearn.metrics import mean_absolute_error, r2_score\n",
    "import joblib"
   ]
  },
  {
   "cell_type": "code",
   "execution_count": 2,
   "metadata": {},
   "outputs": [
    {
     "data": {
      "text/html": [
       "<div>\n",
       "<style scoped>\n",
       "    .dataframe tbody tr th:only-of-type {\n",
       "        vertical-align: middle;\n",
       "    }\n",
       "\n",
       "    .dataframe tbody tr th {\n",
       "        vertical-align: top;\n",
       "    }\n",
       "\n",
       "    .dataframe thead th {\n",
       "        text-align: right;\n",
       "    }\n",
       "</style>\n",
       "<table border=\"1\" class=\"dataframe\">\n",
       "  <thead>\n",
       "    <tr style=\"text-align: right;\">\n",
       "      <th></th>\n",
       "      <th>모델명</th>\n",
       "      <th>제조사</th>\n",
       "      <th>유종</th>\n",
       "      <th>배기량</th>\n",
       "      <th>공차중량</th>\n",
       "      <th>변속형식</th>\n",
       "      <th>도심주행연비</th>\n",
       "      <th>고속도로주행연비</th>\n",
       "      <th>복합연비</th>\n",
       "      <th>등급</th>\n",
       "      <th>...</th>\n",
       "      <th>엔진형식</th>\n",
       "      <th>최고출력(ps/rpm)</th>\n",
       "      <th>최고토크(kgm/rpm)</th>\n",
       "      <th>연료공급방식</th>\n",
       "      <th>변속형식.1</th>\n",
       "      <th>굴림방식</th>\n",
       "      <th>타이어사이즈(전)</th>\n",
       "      <th>타이어사이즈(후)</th>\n",
       "      <th>연료탱크용량(ℓ)</th>\n",
       "      <th>자동차유형</th>\n",
       "    </tr>\n",
       "  </thead>\n",
       "  <tbody>\n",
       "    <tr>\n",
       "      <th>0</th>\n",
       "      <td>DS4 Crossback 1.5 BlueHDi</td>\n",
       "      <td>NaN</td>\n",
       "      <td>경유</td>\n",
       "      <td>1,499cc</td>\n",
       "      <td>1,475kg</td>\n",
       "      <td>자동8</td>\n",
       "      <td>14.9㎞/ℓ</td>\n",
       "      <td>18.1㎞/ℓ</td>\n",
       "      <td>16.2㎞/ℓ</td>\n",
       "      <td>1등급</td>\n",
       "      <td>...</td>\n",
       "      <td>YH01</td>\n",
       "      <td>131/3,750</td>\n",
       "      <td>30.61/1,750</td>\n",
       "      <td>직접분사</td>\n",
       "      <td>자동8</td>\n",
       "      <td>FF</td>\n",
       "      <td>205/55R19</td>\n",
       "      <td>205/55R19</td>\n",
       "      <td>53.0</td>\n",
       "      <td>일반형</td>\n",
       "    </tr>\n",
       "    <tr>\n",
       "      <th>1</th>\n",
       "      <td>Q2 35 TDI</td>\n",
       "      <td>아우디</td>\n",
       "      <td>경유</td>\n",
       "      <td>1,968cc</td>\n",
       "      <td>1,475kg</td>\n",
       "      <td>자동7</td>\n",
       "      <td>15.5㎞/ℓ</td>\n",
       "      <td>18.5㎞/ℓ</td>\n",
       "      <td>16.7㎞/ℓ</td>\n",
       "      <td>1등급</td>\n",
       "      <td>...</td>\n",
       "      <td>DTT</td>\n",
       "      <td>150/3000-4200</td>\n",
       "      <td>36.7/1600-2750</td>\n",
       "      <td>직접분사</td>\n",
       "      <td>자동7</td>\n",
       "      <td>FF</td>\n",
       "      <td>235/40R19</td>\n",
       "      <td>235/40R19</td>\n",
       "      <td>50.0</td>\n",
       "      <td>다목적형</td>\n",
       "    </tr>\n",
       "    <tr>\n",
       "      <th>2</th>\n",
       "      <td>아반떼 1.6GDI 하이브리드 (16“타이어)(22MY)</td>\n",
       "      <td>현대</td>\n",
       "      <td>휘발유</td>\n",
       "      <td>1,580cc</td>\n",
       "      <td>1,335kg</td>\n",
       "      <td>자동6</td>\n",
       "      <td>21.4㎞/ℓ</td>\n",
       "      <td>20.7㎞/ℓ</td>\n",
       "      <td>21.1㎞/ℓ</td>\n",
       "      <td>1등급</td>\n",
       "      <td>...</td>\n",
       "      <td>G4LE</td>\n",
       "      <td>105/5700</td>\n",
       "      <td>15.0/4000</td>\n",
       "      <td>직접분사</td>\n",
       "      <td>자동6</td>\n",
       "      <td>FF</td>\n",
       "      <td>205/55R16</td>\n",
       "      <td>205/55R16</td>\n",
       "      <td>42.0</td>\n",
       "      <td>일반형</td>\n",
       "    </tr>\n",
       "    <tr>\n",
       "      <th>3</th>\n",
       "      <td>아반떼 1.6GDI 하이브리드 (17“타이어)(22MY)</td>\n",
       "      <td>현대</td>\n",
       "      <td>휘발유</td>\n",
       "      <td>1,580cc</td>\n",
       "      <td>1,350kg</td>\n",
       "      <td>자동6</td>\n",
       "      <td>20.3㎞/ℓ</td>\n",
       "      <td>18.6㎞/ℓ</td>\n",
       "      <td>19.5㎞/ℓ</td>\n",
       "      <td>1등급</td>\n",
       "      <td>...</td>\n",
       "      <td>G4LE</td>\n",
       "      <td>105/5700</td>\n",
       "      <td>15.0/4000</td>\n",
       "      <td>직접분사</td>\n",
       "      <td>자동6</td>\n",
       "      <td>FF</td>\n",
       "      <td>225/45R17</td>\n",
       "      <td>225/45R17</td>\n",
       "      <td>42.0</td>\n",
       "      <td>일반형</td>\n",
       "    </tr>\n",
       "    <tr>\n",
       "      <th>4</th>\n",
       "      <td>Peugeot New 308 1.5 BlueHDi</td>\n",
       "      <td>NaN</td>\n",
       "      <td>경유</td>\n",
       "      <td>1,499cc</td>\n",
       "      <td>1,390kg</td>\n",
       "      <td>자동8</td>\n",
       "      <td>15.6㎞/ℓ</td>\n",
       "      <td>19.6㎞/ℓ</td>\n",
       "      <td>17.2㎞/ℓ</td>\n",
       "      <td>1등급</td>\n",
       "      <td>...</td>\n",
       "      <td>YH01</td>\n",
       "      <td>131/3,750</td>\n",
       "      <td>30.61/1,750</td>\n",
       "      <td>직접분사</td>\n",
       "      <td>자동8</td>\n",
       "      <td>FF</td>\n",
       "      <td>225/40R18</td>\n",
       "      <td>225/40R18</td>\n",
       "      <td>53.0</td>\n",
       "      <td>일반형</td>\n",
       "    </tr>\n",
       "  </tbody>\n",
       "</table>\n",
       "<p>5 rows × 26 columns</p>\n",
       "</div>"
      ],
      "text/plain": [
       "                               모델명  제조사   유종      배기량     공차중량 변속형식   도심주행연비  \\\n",
       "0        DS4 Crossback 1.5 BlueHDi  NaN   경유  1,499cc  1,475kg  자동8  14.9㎞/ℓ   \n",
       "1                        Q2 35 TDI  아우디   경유  1,968cc  1,475kg  자동7  15.5㎞/ℓ   \n",
       "2  아반떼 1.6GDI 하이브리드 (16“타이어)(22MY)   현대  휘발유  1,580cc  1,335kg  자동6  21.4㎞/ℓ   \n",
       "3  아반떼 1.6GDI 하이브리드 (17“타이어)(22MY)   현대  휘발유  1,580cc  1,350kg  자동6  20.3㎞/ℓ   \n",
       "4      Peugeot New 308 1.5 BlueHDi  NaN   경유  1,499cc  1,390kg  자동8  15.6㎞/ℓ   \n",
       "\n",
       "  고속도로주행연비     복합연비   등급  ...  엔진형식   최고출력(ps/rpm)   최고토크(kgm/rpm) 연료공급방식  \\\n",
       "0  18.1㎞/ℓ  16.2㎞/ℓ  1등급  ...  YH01      131/3,750     30.61/1,750   직접분사   \n",
       "1  18.5㎞/ℓ  16.7㎞/ℓ  1등급  ...   DTT  150/3000-4200  36.7/1600-2750   직접분사   \n",
       "2  20.7㎞/ℓ  21.1㎞/ℓ  1등급  ...  G4LE       105/5700       15.0/4000   직접분사   \n",
       "3  18.6㎞/ℓ  19.5㎞/ℓ  1등급  ...  G4LE       105/5700       15.0/4000   직접분사   \n",
       "4  19.6㎞/ℓ  17.2㎞/ℓ  1등급  ...  YH01      131/3,750     30.61/1,750   직접분사   \n",
       "\n",
       "  변속형식.1  굴림방식  타이어사이즈(전)  타이어사이즈(후) 연료탱크용량(ℓ) 자동차유형  \n",
       "0    자동8    FF  205/55R19  205/55R19      53.0   일반형  \n",
       "1    자동7    FF  235/40R19  235/40R19      50.0  다목적형  \n",
       "2    자동6    FF  205/55R16  205/55R16      42.0   일반형  \n",
       "3    자동6    FF  225/45R17  225/45R17      42.0   일반형  \n",
       "4    자동8    FF  225/40R18  225/40R18      53.0   일반형  \n",
       "\n",
       "[5 rows x 26 columns]"
      ]
     },
     "execution_count": 2,
     "metadata": {},
     "output_type": "execute_result"
    }
   ],
   "source": [
    "car_df = pd.read_csv(\"/Users/hanhyeongu/Section3/Project/data/car_list.csv\", encoding='cp949', header=1)\n",
    "car_df.head()"
   ]
  },
  {
   "cell_type": "code",
   "execution_count": 3,
   "metadata": {},
   "outputs": [
    {
     "data": {
      "text/plain": [
       "Index(['모델명', '제조사', '유종', '배기량', '공차중량', '변속형식', '도심주행연비', '고속도로주행연비', '복합연비',\n",
       "       '등급', 'CO2배출량', '연비신고구분', '국산/수입', '자동차형식', '자동차종류', '승차정원', '엔진형식',\n",
       "       '최고출력(ps/rpm)', '최고토크(kgm/rpm)', '연료공급방식', '변속형식.1', '굴림방식',\n",
       "       '타이어사이즈(전)', '타이어사이즈(후)', '연료탱크용량(ℓ)', '자동차유형'],\n",
       "      dtype='object')"
      ]
     },
     "execution_count": 3,
     "metadata": {},
     "output_type": "execute_result"
    }
   ],
   "source": [
    "car_df.columns"
   ]
  },
  {
   "cell_type": "code",
   "execution_count": 4,
   "metadata": {},
   "outputs": [],
   "source": [
    "na_index = car_df[car_df['제조사'].isna()].index\n",
    "for i in na_index:\n",
    "    if \"Peugeot\" in car_df.iloc[i]['모델명']  :\n",
    "        car_df.loc[i, '제조사'] = '푸조'\n",
    "    elif \"Citroen\" in car_df.iloc[i]['모델명']:\n",
    "        car_df.loc[i, '제조사'] = '시트로앵'\n",
    "    else:\n",
    "        pass\n",
    "\n",
    "car_df = car_df.dropna(axis=0)\n",
    "car_df = car_df.drop_duplicates(['모델명'], keep='first')\n",
    "\n",
    "def hasNumber(stringVal):\n",
    "    return any(elem.isdigit() for elem in stringVal)\n",
    "\n",
    "for i in car_df[car_df['CO2배출량'].apply(hasNumber)==False].index:\n",
    "    car_df = car_df.drop([i], axis=0)\n",
    "car_df = car_df.reset_index(drop=True)\n",
    "\n",
    "def cc(data):\n",
    "    data = data.str.replace(',','')\n",
    "    data = data.str.replace('cc','')\n",
    "    data = data.astype(int)\n",
    "    return data\n",
    "\n",
    "def kg(data):\n",
    "    data = data.str.replace(',','')\n",
    "    data = data.str.replace('kg','')\n",
    "    data = data.astype(int)\n",
    "    return data\n",
    "\n",
    "def co2(data):\n",
    "    data = data.str.replace('g/km', '')\n",
    "    data = data.astype(float)\n",
    "    return data\n",
    "\n",
    "def km_l(data):\n",
    "    if '㎞/ℓ' in data:\n",
    "        data = data.replace('㎞/ℓ', '')\n",
    "        data = float(data)\n",
    "    elif 'km/kWh' in data:\n",
    "        data = data.replace('km/kWh', '')\n",
    "        data = float(data)\n",
    "    return data\n",
    "\n",
    "car_df['배기량'] = cc(car_df['배기량'])\n",
    "\n",
    "car_df['공차중량'] = kg(car_df['공차중량'])\n",
    "\n",
    "car_df['CO2배출량'] = co2(car_df['CO2배출량'])\n",
    "\n",
    "car_df['복합연비'] = car_df['복합연비'].apply(km_l)"
   ]
  },
  {
   "cell_type": "code",
   "execution_count": 5,
   "metadata": {},
   "outputs": [],
   "source": [
    "not_use_features = ['모델명', '변속형식', '도심주행연비', '고속도로주행연비', '연비신고구분', '승차정원', '엔진형식', '최고출력(ps/rpm)', '최고토크(kgm/rpm)', '연료공급방식','변속형식.1',\n",
    "'굴림방식','타이어사이즈(전)','타이어사이즈(후)','연료탱크용량(ℓ)', '공차중량']\n",
    "car_df = car_df.drop(not_use_features, axis=1)"
   ]
  },
  {
   "cell_type": "code",
   "execution_count": 6,
   "metadata": {},
   "outputs": [],
   "source": [
    "target = 'CO2배출량'\n",
    "X = car_df.drop([target], axis=1)\n",
    "y = car_df[target]\n",
    "\n",
    "X_train, X_test, y_train, y_test = train_test_split(X,y, test_size=0.2, random_state=42)"
   ]
  },
  {
   "cell_type": "code",
   "execution_count": 7,
   "metadata": {},
   "outputs": [],
   "source": [
    "cat_features = []\n",
    "for i in car_df.columns:\n",
    "    if car_df[i].dtype == 'object':\n",
    "        cat_features.append(i)"
   ]
  },
  {
   "cell_type": "code",
   "execution_count": 8,
   "metadata": {},
   "outputs": [],
   "source": [
    "model = Pipeline([\n",
    "    ('ordinal', OrdinalEncoder(cols=cat_features)),\n",
    "    ('rf', RandomForestRegressor(n_estimators=200, max_depth=10,random_state=42))\n",
    "])\n",
    "\n",
    "model.fit(X_train, y_train)\n",
    "pred = model.predict(X_test)\n"
   ]
  },
  {
   "cell_type": "code",
   "execution_count": 9,
   "metadata": {},
   "outputs": [
    {
     "name": "stdout",
     "output_type": "stream",
     "text": [
      "2.3908038456011353 0.9689255617006504\n"
     ]
    }
   ],
   "source": [
    "mae = mean_absolute_error(y_test, pred)\n",
    "r2 = r2_score(y_test, pred)\n",
    "print(mae, r2)"
   ]
  },
  {
   "cell_type": "code",
   "execution_count": 10,
   "metadata": {},
   "outputs": [
    {
     "data": {
      "text/plain": [
       "['model.pkl']"
      ]
     },
     "execution_count": 10,
     "metadata": {},
     "output_type": "execute_result"
    }
   ],
   "source": [
    "joblib.dump(model, './model.pkl')"
   ]
  }
 ],
 "metadata": {
  "kernelspec": {
   "display_name": "Python 3.9.12 64-bit",
   "language": "python",
   "name": "python3"
  },
  "language_info": {
   "codemirror_mode": {
    "name": "ipython",
    "version": 3
   },
   "file_extension": ".py",
   "mimetype": "text/x-python",
   "name": "python",
   "nbconvert_exporter": "python",
   "pygments_lexer": "ipython3",
   "version": "3.9.12"
  },
  "orig_nbformat": 4,
  "vscode": {
   "interpreter": {
    "hash": "aee8b7b246df8f9039afb4144a1f6fd8d2ca17a180786b69acc140d282b71a49"
   }
  }
 },
 "nbformat": 4,
 "nbformat_minor": 2
}
